{
 "cells": [
  {
   "cell_type": "code",
   "execution_count": 1,
   "metadata": {},
   "outputs": [],
   "source": [
    "\n",
    "import sys\n",
    "sys.path.append(\"../../\")\n",
    "\n",
    "from fi.client import Client"
   ]
  },
  {
   "cell_type": "code",
   "execution_count": 2,
   "metadata": {},
   "outputs": [],
   "source": [
    "from datasets import load_dataset\n",
    "\n",
    "# Login using e.g. `huggingface-cli login` to access this dataset\n",
    "ds = load_dataset(\"lmsys/lmsys-chat-1m\")"
   ]
  },
  {
   "cell_type": "code",
   "execution_count": 3,
   "metadata": {},
   "outputs": [
    {
     "data": {
      "text/plain": [
       "DatasetDict({\n",
       "    train: Dataset({\n",
       "        features: ['conversation_id', 'model', 'conversation', 'turn', 'language', 'openai_moderation', 'redacted'],\n",
       "        num_rows: 1000000\n",
       "    })\n",
       "})"
      ]
     },
     "execution_count": 3,
     "metadata": {},
     "output_type": "execute_result"
    }
   ],
   "source": [
    "ds"
   ]
  },
  {
   "cell_type": "code",
   "execution_count": 4,
   "metadata": {},
   "outputs": [
    {
     "data": {
      "text/plain": [
       "[{'content': 'how can identity protection services help protect me against identity theft',\n",
       "  'role': 'user'},\n",
       " {'content': \"Identity protection services can help protect you against identity theft in several ways:\\n\\n1. Monitoring: Many identity protection services monitor your credit reports, public records, and other sources for signs of identity theft. If they detect any suspicious activity, they will alert you so you can take action.\\n2. Credit freeze: Some identity protection services can help you freeze your credit, which makes it more difficult for thieves to open new accounts in your name.\\n3. Identity theft insurance: Some identity protection services offer insurance that can help you recover financially if you become a victim of identity theft.\\n4. Assistance: Many identity protection services offer assistance if you become a victim of identity theft. They can help you file a police report, contact credit bureaus, and other steps to help you restore your identity.\\n\\nOverall, identity protection services can provide you with peace of mind and help you take proactive steps to protect your identity. However, it's important to note that no service can completely guarantee that you will never become a victim of identity theft. It's still important to take steps to protect your own identity, such as being cautious with personal information and regularly monitoring your credit reports.\",\n",
       "  'role': 'assistant'}]"
      ]
     },
     "execution_count": 4,
     "metadata": {},
     "output_type": "execute_result"
    }
   ],
   "source": [
    "ds[\"train\"][0]['conversation']"
   ]
  },
  {
   "cell_type": "code",
   "execution_count": 5,
   "metadata": {},
   "outputs": [],
   "source": [
    "fi_client = Client(\n",
    "  api_key=\"f176088f0e794ac7ac38d65bab1687c7\",\n",
    "  secret_key=\"e2d4553e16f34b07ab18b7d50b382f81\"\n",
    ")"
   ]
  },
  {
   "cell_type": "code",
   "execution_count": 5,
   "metadata": {},
   "outputs": [],
   "source": [
    "fi_client = Client(\n",
    "  uri=\"https://dev.api.futureagi.com\",\n",
    "  api_key=\"8437d413519a4b7aad0a9d73bee01f2d\",\n",
    "  secret_key=\"880e66bafcb04352aaae824f8f2334cc\"\n",
    ")"
   ]
  },
  {
   "cell_type": "code",
   "execution_count": 6,
   "metadata": {},
   "outputs": [],
   "source": [
    "from fi.client import ModelTypes, Environments\n",
    "import uuid\n",
    "import time"
   ]
  },
  {
   "cell_type": "code",
   "execution_count": 7,
   "metadata": {},
   "outputs": [],
   "source": [
    "import time\n",
    "import random\n",
    "import datetime\n",
    "\n",
    "def generate_random_date():\n",
    "    # Get the current time\n",
    "    now = time.time()\n",
    "    \n",
    "    # Calculate the timestamp for two weeks ago (14 days * 24 hours * 60 minutes * 60 seconds)\n",
    "    two_weeks_ago = now - (30*6 * 24 * 60 * 60)\n",
    "    \n",
    "    # Generate a random timestamp between two weeks ago and now\n",
    "    random_timestamp = random.uniform(two_weeks_ago, now)\n",
    "    \n",
    "    return random_timestamp"
   ]
  },
  {
   "cell_type": "code",
   "execution_count": 8,
   "metadata": {},
   "outputs": [
    {
     "data": {
      "text/plain": [
       "<Response [500]>"
      ]
     },
     "execution_count": 8,
     "metadata": {},
     "output_type": "execute_result"
    }
   ],
   "source": [
    "fi_client.log(\n",
    "  \"my-first-model\",\n",
    "  ModelTypes.GENERATIVE_LLM,\n",
    "  Environments.PRODUCTION,\n",
    "  \"v2\",\n",
    "  int(generate_random_date()),\n",
    "  {\n",
    "    \"chat_history\": [\n",
    "      {\"role\": \"user\", \"content\": \"How do I implement a neural network in Python?\"},\n",
    "      {\"role\": \"assistant\", \"content\": \"To implement a neural network in Python, you can use libraries like TensorFlow or PyTorch. Here’s a simple example using PyTorch...\"},\n",
    "      {\"role\": \"user\", \"content\": \"Can you give me more details about the layers and activation functions?\"},\n",
    "      {\"role\": \"assistant\", \"content\": \"Sure! A neural network typically consists of an input layer, one or more hidden layers, and an output layer. Each layer has neurons, which apply an activation function to the input data. Common activation functions include ReLU, Sigmoid, and Tanh.\"},\n",
    "      {\"role\": \"user\", \"content\": \"What is the purpose of an activation function?\"},\n",
    "      {\"role\": \"assistant\", \"content\": \"The activation function introduces non-linearity into the network, allowing it to learn complex patterns. Without activation functions, the network would essentially be a linear model, regardless of its depth.\"},\n",
    "      {\"role\": \"user\", \"content\": \"Can you show me an example of a neural network with ReLU activation function?\"},\n",
    "      {\"role\": \"assistant\", \"content\": \"Certainly! Here’s a simple example using PyTorch:\\n\\n```python\\nimport torch\\nimport torch.nn as nn\\nimport torch.optim as optim\\n\\nclass SimpleNN(nn.Module):\\n    def __init__(self):\\n        super(SimpleNN, self).__init__()\\n        self.fc1 = nn.Linear(10, 50)\\n        self.relu = nn.ReLU()\\n        self.fc2 = nn.Linear(50, 1)\\n    \\n    def forward(self, x):\\n        x = self.fc1(x)\\n        x = self.relu(x)\\n        x = self.fc2(x)\\n        return x\\n\\nmodel = SimpleNN()\\ncriterion = nn.MSELoss()\\noptimizer = optim.SGD(model.parameters(), lr=0.01)\\n```\"},\n",
    "      {\"role\": \"user\", \"content\": \"How do I train this neural network?\"},\n",
    "      {\"role\": \"assistant\", \"content\": \"To train the neural network, you need to feed it data, compute the loss, and update the weights. Here’s how you can do it:\\n\\n```python\\nfor epoch in range(100):\\n    optimizer.zero_grad()\\n    outputs = model(inputs)\\n    loss = criterion(outputs, targets)\\n    loss.backward()\\n    optimizer.step()\\n    print(f'Epoch [{epoch+1}/100], Loss: {loss.item():.4f}')\\n```\"},\n",
    "      {\"role\": \"user\", \"content\": \"What kind of data can I use to train this model?\"},\n",
    "      {\"role\": \"assistant\", \"content\": \"You can use any numerical data that fits the input and output dimensions of your model. For example, if you’re working on a regression problem, you might use datasets like the Boston Housing dataset. For classification, you could use the MNIST dataset. The key is to preprocess your data to match the input shape expected by the model.\"}\n",
    "    ]\n",
    "  }\n",
    ").result()"
   ]
  },
  {
   "cell_type": "code",
   "execution_count": 8,
   "metadata": {},
   "outputs": [],
   "source": [
    "import time\n",
    "import random\n",
    "import datetime\n",
    "\n",
    "def generate_random_date():\n",
    "    # Get the current time\n",
    "    now = time.time()\n",
    "    \n",
    "    # Calculate the timestamp for two weeks ago (14 days * 24 hours * 60 minutes * 60 seconds)\n",
    "    two_weeks_ago = now - (30* 6 * 24 * 60 * 60)\n",
    "    \n",
    "    # Generate a random timestamp between two weeks ago and now\n",
    "    random_timestamp = random.uniform(two_weeks_ago, now)\n",
    "    \n",
    "    return random_timestamp"
   ]
  },
  {
   "cell_type": "code",
   "execution_count": null,
   "metadata": {},
   "outputs": [],
   "source": [
    "for i in range(300):\n",
    "\n",
    "  print(fi_client.log(\n",
    "  \"user-chatbot-multilanguage\",\n",
    "  ModelTypes.GENERATIVE_LLM,\n",
    "  Environments.PRODUCTION,\n",
    "  \"v1\",\n",
    "  # str(uuid.uuid4()),\n",
    "  int(generate_random_date()),\n",
    "  {\n",
    "    \"chat_history\": ds[\"train\"][i]['conversation']\n",
    "  }\n",
    "  ).result())\n",
    "  print(ds[\"train\"][i]['conversation'])"
   ]
  },
  {
   "cell_type": "code",
   "execution_count": null,
   "metadata": {},
   "outputs": [],
   "source": []
  }
 ],
 "metadata": {
  "kernelspec": {
   "display_name": "base",
   "language": "python",
   "name": "python3"
  },
  "language_info": {
   "codemirror_mode": {
    "name": "ipython",
    "version": 3
   },
   "file_extension": ".py",
   "mimetype": "text/x-python",
   "name": "python",
   "nbconvert_exporter": "python",
   "pygments_lexer": "ipython3",
   "version": "3.11.5"
  }
 },
 "nbformat": 4,
 "nbformat_minor": 2
}
